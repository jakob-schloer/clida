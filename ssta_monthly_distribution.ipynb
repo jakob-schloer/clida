{
 "metadata": {
  "language_info": {
   "codemirror_mode": {
    "name": "ipython",
    "version": 3
   },
   "file_extension": ".py",
   "mimetype": "text/x-python",
   "name": "python",
   "nbconvert_exporter": "python",
   "pygments_lexer": "ipython3",
   "version": "3.7.8-final"
  },
  "orig_nbformat": 2,
  "kernelspec": {
   "name": "python37864bitvaeenvconda0c122c6ec8d149da94c59cead0d4a09b",
   "display_name": "Python 3.7.8 64-bit ('vaeEnv': conda)"
  }
 },
 "nbformat": 4,
 "nbformat_minor": 2,
 "cells": [
  {
   "cell_type": "code",
   "execution_count": 1,
   "metadata": {},
   "outputs": [],
   "source": [
    "import sys, os\n",
    "import numpy as np\n",
    "import xarray as xr\n",
    "import matplotlib.pyplot as plt\n",
    "import cartopy.crs as ccrs\n",
    "\n",
    "import geo_preprocessing as gp"
   ]
  },
  {
   "source": [
    "## Load Data"
   ],
   "cell_type": "markdown",
   "metadata": {}
  },
  {
   "cell_type": "code",
   "execution_count": 2,
   "metadata": {},
   "outputs": [
    {
     "output_type": "stream",
     "name": "stdout",
     "text": [
      "Set the antimeridian to the new longitude zero.\n"
     ]
    }
   ],
   "source": [
    "dirname = \"/home/jakob/climate_data/local/era5/\"\n",
    "fname = dirname + \"era5_sst_2000-2019_mon_anomalies.nc\"\n",
    "ds = xr.open_dataset(fname) \n",
    "\n",
    "# change coordinates\n",
    "ds_prepro = gp.set_antimeridian2zero(ds)\n",
    "anomalies = ds_prepro['analysed_sst']\n",
    "# cut pacific\n",
    "lon_range = gp.get_antimeridian_coord([-70, 120])\n",
    "pacific_ano = gp.cut_map_area(anomalies, \n",
    "    lon_range=lon_range, lat_range=[-30, 30])"
   ]
  },
  {
   "source": [
    "## Create std and quantile maps"
   ],
   "cell_type": "markdown",
   "metadata": {}
  },
  {
   "cell_type": "code",
   "execution_count": 3,
   "metadata": {},
   "outputs": [],
   "source": [
    "# obtain mean and std \n",
    "buff = pacific_ano.groupby('time.month')\n",
    "pacific_mean = buff.mean(dim='time', skipna=True)\n",
    "pacific_std = buff.std(dim='time', skipna=True)\n",
    "pacific_5quant = buff.quantile(0.05, dim='time', skipna=True)\n",
    "pacific_95quant = buff.quantile(0.95, dim='time', skipna=True)"
   ]
  },
  {
   "source": [
    "## Plotting"
   ],
   "cell_type": "markdown",
   "metadata": {}
  },
  {
   "cell_type": "code",
   "execution_count": null,
   "metadata": {},
   "outputs": [],
   "source": [
    "def plot_monthly_maps(maps, title, vmin, vmax, cmap):\n",
    "\n",
    "    fig = plt.figure(figsize=(20,10))\n",
    "    for month in np.arange(1,13,1):\n",
    "        ax = plt.subplot(4,3, month, projection=ccrs.PlateCarree(central_longitude=180))\n",
    "        ax = gp.plot_map(maps.sel(month=month), central_longitude=180,\n",
    "                          vmin=vmin, vmax=vmax, ax=ax, color=cmap)\n",
    "        ax.set_title('month: {}'.format(month))\n",
    "    \n",
    "    plt.suptitle(title)\n",
    "    return ax"
   ]
  },
  {
   "cell_type": "code",
   "execution_count": 4,
   "metadata": {},
   "outputs": [
    {
     "output_type": "error",
     "ename": "NameError",
     "evalue": "name 'plot_monthly_maps' is not defined",
     "traceback": [
      "\u001b[0;31m---------------------------------------------------------------------------\u001b[0m",
      "\u001b[0;31mNameError\u001b[0m                                 Traceback (most recent call last)",
      "\u001b[0;32m<ipython-input-4-86444bd0141e>\u001b[0m in \u001b[0;36m<module>\u001b[0;34m()\u001b[0m\n\u001b[1;32m      2\u001b[0m \u001b[0mvmin\u001b[0m \u001b[0;34m=\u001b[0m \u001b[0mnp\u001b[0m\u001b[0;34m.\u001b[0m\u001b[0mnanmin\u001b[0m\u001b[0;34m(\u001b[0m\u001b[0mpacific_std\u001b[0m\u001b[0;34m.\u001b[0m\u001b[0mdata\u001b[0m\u001b[0;34m)\u001b[0m\u001b[0;34m\u001b[0m\u001b[0;34m\u001b[0m\u001b[0m\n\u001b[1;32m      3\u001b[0m \u001b[0mvmax\u001b[0m \u001b[0;34m=\u001b[0m \u001b[0mnp\u001b[0m\u001b[0;34m.\u001b[0m\u001b[0mnanmax\u001b[0m\u001b[0;34m(\u001b[0m\u001b[0mpacific_std\u001b[0m\u001b[0;34m.\u001b[0m\u001b[0mdata\u001b[0m\u001b[0;34m)\u001b[0m\u001b[0;34m\u001b[0m\u001b[0;34m\u001b[0m\u001b[0m\n\u001b[0;32m----> 4\u001b[0;31m \u001b[0mplot_monthly_maps\u001b[0m\u001b[0;34m(\u001b[0m\u001b[0mpacific_std\u001b[0m\u001b[0;34m,\u001b[0m \u001b[0;34m'Standard deviation of SST-anomalies'\u001b[0m\u001b[0;34m,\u001b[0m \u001b[0mvmin\u001b[0m\u001b[0;34m,\u001b[0m \u001b[0mvmax\u001b[0m\u001b[0;34m,\u001b[0m \u001b[0mcmap\u001b[0m\u001b[0;34m=\u001b[0m\u001b[0;34m'YlGn'\u001b[0m\u001b[0;34m)\u001b[0m\u001b[0;34m\u001b[0m\u001b[0;34m\u001b[0m\u001b[0m\n\u001b[0m\u001b[1;32m      5\u001b[0m \u001b[0;34m\u001b[0m\u001b[0m\n\u001b[1;32m      6\u001b[0m \u001b[0mvmin\u001b[0m \u001b[0;34m=\u001b[0m \u001b[0mnp\u001b[0m\u001b[0;34m.\u001b[0m\u001b[0mnanmin\u001b[0m\u001b[0;34m(\u001b[0m\u001b[0mpacific_5quant\u001b[0m\u001b[0;34m.\u001b[0m\u001b[0mdata\u001b[0m\u001b[0;34m)\u001b[0m\u001b[0;34m\u001b[0m\u001b[0;34m\u001b[0m\u001b[0m\n",
      "\u001b[0;31mNameError\u001b[0m: name 'plot_monthly_maps' is not defined"
     ]
    }
   ],
   "source": [
    "# plotting\n",
    "vmin = np.nanmin(pacific_std.data)\n",
    "vmax = np.nanmax(pacific_std.data)\n",
    "plot_monthly_maps(pacific_std, 'Standard deviation of SST-anomalies', vmin, vmax, cmap='YlGn')\n",
    "\n",
    "vmin = np.nanmin(pacific_5quant.data)\n",
    "vmax = np.nanmax(pacific_95quant.data)\n",
    "plot_monthly_maps(pacific_5quant, '5% quantile of SST-anomalies', vmin, vmax, cmap='RdBu_r')\n",
    "plot_monthly_maps(pacific_95quant, '95% quantile of SST-anomalies', vmin, vmax, cmap='RdBu_r')"
   ]
  },
  {
   "cell_type": "code",
   "execution_count": null,
   "metadata": {},
   "outputs": [],
   "source": []
  }
 ]
}